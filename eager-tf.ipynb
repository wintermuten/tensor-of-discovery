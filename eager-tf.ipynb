{
 "cells": [
  {
   "cell_type": "markdown",
   "metadata": {},
   "source": [
    "# Eager Execution in Tensorflow\n",
    "\n",
    "The **Eager** module supports the imperative model of execution in place of computational graphs. In addition to treating functions as first-class objects, this also requires an alternative way of computing gradients.\n",
    "\n",
    "Available only with the nightly build (for now)."
   ]
  },
  {
   "cell_type": "code",
   "execution_count": 19,
   "metadata": {},
   "outputs": [
    {
     "name": "stdout",
     "output_type": "stream",
     "text": [
      "Requirement already satisfied: tf-nightly in /home/karan/anaconda3/lib/python3.5/site-packages\n",
      "Requirement already satisfied: enum34>=1.1.6 in /home/karan/anaconda3/lib/python3.5/site-packages (from tf-nightly)\n",
      "Requirement already satisfied: numpy>=1.12.1 in /home/karan/anaconda3/lib/python3.5/site-packages (from tf-nightly)\n",
      "Requirement already satisfied: wheel>=0.26 in /home/karan/anaconda3/lib/python3.5/site-packages (from tf-nightly)\n",
      "Requirement already satisfied: six>=1.10.0 in /home/karan/anaconda3/lib/python3.5/site-packages (from tf-nightly)\n",
      "Requirement already satisfied: protobuf>=3.4.0 in /home/karan/anaconda3/lib/python3.5/site-packages (from tf-nightly)\n",
      "Requirement already satisfied: setuptools in /home/karan/anaconda3/lib/python3.5/site-packages/setuptools-27.2.0-py3.5.egg (from protobuf>=3.4.0->tf-nightly)\n"
     ]
    }
   ],
   "source": [
    "!pip install tf-nightly\n",
    "import tensorflow as tf\n",
    "import tensorflow.contrib.eager as tfe\n",
    "tfe.enable_eager_execution()"
   ]
  },
  {
   "cell_type": "code",
   "execution_count": 20,
   "metadata": {},
   "outputs": [
    {
     "name": "stdout",
     "output_type": "stream",
     "text": [
      "tf.Tensor(13.9607, shape=(), dtype=float32)\n"
     ]
    }
   ],
   "source": [
    "a = tf.random_uniform((10,))\n",
    "b = tf.random_uniform((10,))\n",
    "print(tf.reduce_sum( (a+b)**2 ))"
   ]
  },
  {
   "cell_type": "code",
   "execution_count": 21,
   "metadata": {},
   "outputs": [
    {
     "name": "stdout",
     "output_type": "stream",
     "text": [
      "[<tf.Tensor: id=3084, shape=(), dtype=float32, numpy=120.0>]\n"
     ]
    }
   ],
   "source": [
    "def factorial(n):\n",
    "    f = lambda x: tf.pow(x, n)\n",
    "    for i in range(n):\n",
    "        f = tfe.gradients_function(f)\n",
    "    return f(1.0)\n",
    "\n",
    "print(factorial(5))"
   ]
  }
 ],
 "metadata": {
  "kernelspec": {
   "display_name": "Python 3",
   "language": "python",
   "name": "python3"
  },
  "language_info": {
   "codemirror_mode": {
    "name": "ipython",
    "version": 3
   },
   "file_extension": ".py",
   "mimetype": "text/x-python",
   "name": "python",
   "nbconvert_exporter": "python",
   "pygments_lexer": "ipython3",
   "version": "3.5.2"
  }
 },
 "nbformat": 4,
 "nbformat_minor": 2
}
